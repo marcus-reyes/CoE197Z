{
 "cells": [
  {
   "cell_type": "code",
   "execution_count": 27,
   "metadata": {},
   "outputs": [
    {
     "name": "stdout",
     "output_type": "stream",
     "text": [
      "(28, 28)\n",
      "Left-Original|Right-Corrupted\n"
     ]
    },
    {
     "data": {
      "image/png": "[encoded data removed]",
      "text/plain": [
       "<Figure size 504x504 with 10 Axes>"
      ]
     },
     "metadata": {
      "needs_background": "light"
     },
     "output_type": "display_data"
    }
   ],
   "source": [
    "# autoenc\n",
    "###Base setup taken from: https://github.com/baudm/ee298z to be able to run the benchmark code\n",
    "###Base code modelled from: https://keras.io/examples/mnist_denoising_autoencoder/\n",
    "import keras\n",
    "\n",
    "from keras.models import Model\n",
    "\n",
    "from keras.layers import Input, Conv2D, Flatten, Dense, Reshape, Conv2DTranspose, Activation, Dropout, BatchNormalization\n",
    "\n",
    "from keras import backend as K\n",
    "\n",
    "from keras import optimizers\n",
    "from keras.optimizers import Adam, SGD\n",
    "import numpy as np\n",
    "import skimage\n",
    "from hw2.transforms import corrupt_mnist_copy\n",
    "from keras.datasets import mnist\n",
    "from hw2.benchmark_keras import test_model\n",
    "import matplotlib.pyplot as plt\n",
    "from PIL import Image\n",
    "(x_train, y_train), (x_test, y_test) = mnist.load_data()\n",
    "x_train_corrupted = corrupt_mnist_copy(x_train)\n",
    "x_test_corrupted = corrupt_mnist_copy(x_test)\n",
    "###End Code Chunk\n",
    "\n",
    "# Scale to [0, 1]\n",
    "x_train = x_train.astype('float32') / 255.\n",
    "x_train_corrupted = x_train_corrupted.astype('float32') / 255.\n",
    "x_test = x_test.astype('float32') / 255.\n",
    "x_test_corrupted = x_test_corrupted.astype('float32') / 255.\n",
    "plt.figure(num = 1, figsize = (7,7))\n",
    "plt.title(\"Left-Original|Right-Corrupted\")\n",
    "for i in range(5):\n",
    "    plt.subplot(5,2,(2*i)+1)\n",
    "    plt.imshow(x_train[i],cmap = 'gray', vmin = 0, vmax = 1)\n",
    "    plt.subplot(5,2,(2*i)+2)\n",
    "    plt.imshow(x_train_corrupted[i],cmap = 'gray', vmin = 0, vmax = 1)\n",
    "print(\"Left-Original|Right-Corrupted\")"
   ]
  },
  {
   "cell_type": "code",
   "execution_count": 20,
   "metadata": {},
   "outputs": [
    {
     "name": "stdout",
     "output_type": "stream",
     "text": [
      "-------------------ENCODER----------------\n",
      "_________________________________________________________________\n",
      "Layer (type)                 Output Shape              Param #   \n",
      "=================================================================\n",
      "input_13 (InputLayer)        (None, 28, 28, 1)         0         \n",
      "_________________________________________________________________\n",
      "conv2d_15 (Conv2D)           (None, 14, 14, 64)        640       \n",
      "_________________________________________________________________\n",
      "batch_normalization_25 (Batc (None, 14, 14, 64)        256       \n",
      "_________________________________________________________________\n",
      "conv2d_16 (Conv2D)           (None, 7, 7, 128)         73856     \n",
      "_________________________________________________________________\n",
      "batch_normalization_26 (Batc (None, 7, 7, 128)         512       \n",
      "_________________________________________________________________\n",
      "flatten_8 (Flatten)          (None, 6272)              0         \n",
      "_________________________________________________________________\n",
      "dense_15 (Dense)             (None, 1000)              6273000   \n",
      "=================================================================\n",
      "Total params: 6,348,264\n",
      "Trainable params: 6,347,880\n",
      "Non-trainable params: 384\n",
      "_________________________________________________________________\n",
      "-------------------DECODER----------------\n",
      "_________________________________________________________________\n",
      "Layer (type)                 Output Shape              Param #   \n",
      "=================================================================\n",
      "input_14 (InputLayer)        (None, 1000)              0         \n",
      "_________________________________________________________________\n",
      "dense_16 (Dense)             (None, 6272)              6278272   \n",
      "_________________________________________________________________\n",
      "reshape_7 (Reshape)          (None, 7, 7, 128)         0         \n",
      "_________________________________________________________________\n",
      "conv2d_transpose_19 (Conv2DT (None, 14, 14, 64)        73792     \n",
      "_________________________________________________________________\n",
      "batch_normalization_27 (Batc (None, 14, 14, 64)        256       \n",
      "_________________________________________________________________\n",
      "conv2d_transpose_20 (Conv2DT (None, 28, 28, 128)       73856     \n",
      "_________________________________________________________________\n",
      "batch_normalization_28 (Batc (None, 28, 28, 128)       512       \n",
      "_________________________________________________________________\n",
      "conv2d_transpose_21 (Conv2DT (None, 28, 28, 1)         1153      \n",
      "_________________________________________________________________\n",
      "activation_7 (Activation)    (None, 28, 28, 1)         0         \n",
      "=================================================================\n",
      "Total params: 6,427,841\n",
      "Trainable params: 6,427,457\n",
      "Non-trainable params: 384\n",
      "_________________________________________________________________\n",
      "-------------------AUTOENC----------------\n",
      "_________________________________________________________________\n",
      "Layer (type)                 Output Shape              Param #   \n",
      "=================================================================\n",
      "input_13 (InputLayer)        (None, 28, 28, 1)         0         \n",
      "_________________________________________________________________\n",
      "model_17 (Model)             (None, 1000)              6348264   \n",
      "_________________________________________________________________\n",
      "model_18 (Model)             (None, 28, 28, 1)         6427841   \n",
      "=================================================================\n",
      "Total params: 12,776,105\n",
      "Trainable params: 12,775,337\n",
      "Non-trainable params: 768\n",
      "_________________________________________________________________\n"
     ]
    }
   ],
   "source": [
    "filters = 64\n",
    "strides = 2\n",
    "kernel_size = 3\n",
    "activation = 'relu'\n",
    "dropout = 0\n",
    "latent_dim = 1000 #Arbitrary\n",
    "#Based on https://keras.io/examples/mnist_denoising_autoencoder/\n",
    "\n",
    "#Encoder\n",
    "encoder_input = Input(shape = (28,28,1))\n",
    "x = encoder_input\n",
    "for i in range(2):\n",
    "    x = Conv2D(filters = filters*(i+1),\n",
    "                kernel_size = kernel_size,\n",
    "                activation = activation,\n",
    "                strides = strides,\n",
    "                padding = \"same\")(x)\n",
    "    x = BatchNormalization()(x)\n",
    "pre_flatten_shape = K.int_shape(x)\n",
    "x = Flatten()(x)\n",
    "x_latent = Dense(latent_dim)(x)\n",
    "encoder = Model(encoder_input, x_latent)\n",
    "\n",
    "#Decoder\n",
    "decoder_input = Input(shape = (latent_dim,))\n",
    "x = decoder_input\n",
    "\n",
    "#Get the preflattened shape\n",
    "x = Dense(pre_flatten_shape[1]*pre_flatten_shape[2]*pre_flatten_shape[3])(decoder_input)\n",
    "x = Reshape((pre_flatten_shape[1],pre_flatten_shape[2],pre_flatten_shape[3]))(x)\n",
    "#reverse the Conv2D\n",
    "for i in range(2):\n",
    "    x = Conv2DTranspose(filters = filters*(i+1),\n",
    "                kernel_size = kernel_size,\n",
    "                activation = activation,\n",
    "                strides = strides,\n",
    "                padding = \"same\")(x)\n",
    "    x = BatchNormalization()(x)\n",
    "\n",
    "#Output a single image\n",
    "x = Conv2DTranspose(filters = 1,\n",
    "            kernel_size = kernel_size,\n",
    "            strides = 1,\n",
    "            #activation = activation why does adding this prevent training. Explore in the future\n",
    "            padding = \"same\")(x)\n",
    "decoder_output = Activation('sigmoid')(x)\n",
    "\n",
    "decoder = Model(decoder_input, decoder_output)\n",
    "\n",
    "autoenc = Model(encoder_input, decoder(encoder(encoder_input)))\n",
    "print(\"-------------------ENCODER----------------\")\n",
    "encoder.summary()\n",
    "print(\"-------------------DECODER----------------\")\n",
    "decoder.summary()\n",
    "print(\"-------------------AUTOENC----------------\")\n",
    "autoenc.summary()\n"
   ]
  },
  {
   "cell_type": "code",
   "execution_count": 28,
   "metadata": {},
   "outputs": [
    {
     "name": "stdout",
     "output_type": "stream",
     "text": [
      "Classifier score: 97.46\n",
      "SSIM score: 97.69\n",
      "Done Training\n"
     ]
    }
   ],
   "source": [
    "#Reshape for inputting\n",
    "x_train = np.reshape(x_train, [-1,28,28,1])\n",
    "x_train_corrupted = np.reshape(x_train_corrupted, [-1,28,28,1])\n",
    "x_test = np.reshape(x_test, [-1,28,28,1])\n",
    "x_test_corrupted = np.reshape(x_test_corrupted, [-1,28,28,1])\n",
    "\n",
    "\n",
    "adam = optimizers.Adam(lr=0.003, beta_1=0.9, beta_2=0.999, amsgrad=False)\n",
    "autoenc.compile(loss = 'mean_squared_error',optimizer = adam)\n",
    "\n",
    "autoenc.fit(x_train_corrupted, x_train,\n",
    "            validation_data = (x_test_corrupted, x_test),\n",
    "            epochs = 15,\n",
    "            batch_size = 128,\n",
    "            verbose = 0)\n",
    "\n",
    "\n",
    "#Reload data because the reshaping seems to affect the use of \"testmodel\"\n",
    "(x_train, y_train), (x_test, y_test) = mnist.load_data()\n",
    "x_test = x_test.astype('float32') / 255.\n",
    "test_model(autoenc, x_test, y_test, batch_size=100)\n",
    "autoenc.save_weights('autoencmodel100epochs.h5')\n",
    "\n",
    "print(\"Done Training\")"
   ]
  },
  {
   "cell_type": "code",
   "execution_count": 36,
   "metadata": {},
   "outputs": [
    {
     "name": "stdout",
     "output_type": "stream",
     "text": [
      "Left-Original|Middle-Corrupted|Right-Recovered\n"
     ]
    },
    {
     "data": {
      "image/png": "[encoded data removed]",
      "text/plain": [
       "<Figure size 504x504 with 15 Axes>"
      ]
     },
     "metadata": {
      "needs_background": "light"
     },
     "output_type": "display_data"
    }
   ],
   "source": [
    "###Chunk\n",
    "x_test = np.reshape(x_test, [-1,28,28,1])\n",
    "x_test_corrupted = np.reshape(x_test_corrupted, [-1,28,28,1])\n",
    "\n",
    "x_decoded = autoenc.predict(x_test_corrupted)\n",
    "x_decoded = x_decoded.astype('float32')\n",
    "x_test = np.reshape(x_test, [-1,28,28])\n",
    "x_test_corrupted = np.reshape(x_test_corrupted, [-1,28,28])\n",
    "x_decoded = np.reshape(x_decoded, [-1,28,28])\n",
    "plt.figure(num = 2, figsize = (7,7))\n",
    "\n",
    "print(\"Left-Original|Middle-Corrupted|Right-Recovered\")\n",
    "for i in range(5):\n",
    "    \n",
    "    plt.subplot(5,3,(i*3)+1)\n",
    "    plt.imshow(x_test[i],cmap = 'gray', vmin = 0, vmax = 1)\n",
    "    plt.subplot(5,3,(i*3)+2)\n",
    "    plt.imshow(x_test_corrupted[i],cmap = 'gray', vmin = 0, vmax = 1)\n",
    "    plt.subplot(5,3,(i*3)+3)\n",
    "    plt.imshow(x_decoded[i],cmap = 'gray', vmin = 0, vmax = 1)\n",
    "\n",
    "\n",
    "plt.show()"
   ]
  },
  {
   "cell_type": "markdown",
   "metadata": {},
   "source": [
    "# Analysis"
   ]
  },
  {
   "cell_type": "code",
   "execution_count": 34,
   "metadata": {},
   "outputs": [],
   "source": [
    "#By simply following the AutoEncoder Tutorial of keras, I was able to achieve the above benchmark score.\n",
    "#The tutorial only used 16 latent dimentions. Increasing those latenet dimensions\n",
    "#     improved the benchmark scores significantly. I settled at 1000 as 10000 took relatively too long to train\n",
    "\n",
    "#Again 'relu' seemed to be the best activation function. I tried tanh and it did not outperform 'relu'\n",
    "#     though i did not test this extensively\n",
    "\n",
    "#Increasing the filters improved performance, at the cost of training time. I stopped at 64-128\n",
    "\n",
    "#15 epochs seems to be around the sweet spot for this setup\n",
    "\n",
    "#I increased the adam lr because it was taking a while to converge\n",
    "\n",
    "#MSE was chosen as the loss function because this is not a categorical task.\n",
    "\n",
    "#I did not bother experimenting with much deeper models because the input is only 28,28.\n",
    "#     As it is this model has 7 layers and 12 million parameters already"
   ]
  },
  {
   "cell_type": "code",
   "execution_count": null,
   "metadata": {},
   "outputs": [],
   "source": []
  }
 ],
 "metadata": {
  "kernelspec": {
   "display_name": "Python 3",
   "language": "python",
   "name": "python3"
  },
  "language_info": {
   "codemirror_mode": {
    "name": "ipython",
    "version": 3
   },
   "file_extension": ".py",
   "mimetype": "text/x-python",
   "name": "python",
   "nbconvert_exporter": "python",
   "pygments_lexer": "ipython3",
   "version": "3.6.9"
  }
 },
 "nbformat": 4,
 "nbformat_minor": 2
}
